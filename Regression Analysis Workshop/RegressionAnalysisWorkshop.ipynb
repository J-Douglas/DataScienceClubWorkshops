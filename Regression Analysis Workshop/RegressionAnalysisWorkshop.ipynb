{
  "nbformat": 4,
  "nbformat_minor": 0,
  "metadata": {
    "colab": {
      "name": "RegressionAnalysisWorkshop.ipynb",
      "provenance": [],
      "toc_visible": true
    },
    "kernelspec": {
      "name": "python3",
      "display_name": "Python 3"
    },
    "language_info": {
      "name": "python"
    }
  },
  "cells": [
    {
      "cell_type": "markdown",
      "metadata": {
        "id": "v_iWvdUnLnsY"
      },
      "source": [
        "# Intro to Regression Analysis Workshop\n",
        "*Created by Jack Douglas, UWaterloo Data Science Club*\n",
        "<br>\n",
        "\n",
        "**REMINDER: You can make a copy of this notebook by going to File > Save a copy in Drive**\n"
      ]
    },
    {
      "cell_type": "markdown",
      "metadata": {
        "id": "y_HmEZoELrzB"
      },
      "source": [
        "## Summary\n",
        "\n",
        "In this notebook, we will go __. \n",
        "\n",
        "We will be using the ___ dataset. \n",
        "\n",
        "As well, we will be using __.\n"
      ]
    },
    {
      "cell_type": "markdown",
      "metadata": {
        "id": "fERZquuuLuTV"
      },
      "source": [
        "## Packages/Libraries\n",
        "\n",
        "We are installing the __."
      ]
    },
    {
      "cell_type": "code",
      "metadata": {
        "id": "zRBbKS3vlV2P"
      },
      "source": [
        ""
      ],
      "execution_count": null,
      "outputs": []
    },
    {
      "cell_type": "markdown",
      "metadata": {
        "id": "KHN63qdQLu49"
      },
      "source": [
        "## Linear Regression"
      ]
    },
    {
      "cell_type": "code",
      "metadata": {
        "id": "tnNec-LclW8A"
      },
      "source": [
        ""
      ],
      "execution_count": null,
      "outputs": []
    },
    {
      "cell_type": "markdown",
      "metadata": {
        "id": "6whUr09gENXf"
      },
      "source": [
        "## Poisson Regression"
      ]
    },
    {
      "cell_type": "code",
      "metadata": {
        "id": "b-B2UJ7BlXVM"
      },
      "source": [
        ""
      ],
      "execution_count": null,
      "outputs": []
    },
    {
      "cell_type": "markdown",
      "metadata": {
        "id": "rpitZagTL3Ma"
      },
      "source": [
        "## Logistic Regression\n"
      ]
    },
    {
      "cell_type": "code",
      "metadata": {
        "id": "CV87VqvnlX76"
      },
      "source": [
        ""
      ],
      "execution_count": null,
      "outputs": []
    },
    {
      "cell_type": "markdown",
      "metadata": {
        "id": "LKiIcjl8L5Dw"
      },
      "source": [
        ""
      ]
    }
  ]
}