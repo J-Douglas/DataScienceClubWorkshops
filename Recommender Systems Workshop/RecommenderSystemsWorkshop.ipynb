{
  "nbformat": 4,
  "nbformat_minor": 0,
  "metadata": {
    "colab": {
      "name": "RecommenderSystemsWorkshop.ipynb",
      "provenance": []
    },
    "kernelspec": {
      "name": "python3",
      "display_name": "Python 3"
    },
    "language_info": {
      "name": "python"
    }
  },
  "cells": [
    {
      "cell_type": "markdown",
      "metadata": {
        "id": "FmRY9zBn-66r"
      },
      "source": [
        "# Recommender Systems Workshop\n",
        "*Created by Jack Douglas, UWaterloo Data Science Club*\n",
        "\n",
        "In this notebook, ."
      ]
    }
  ]
}